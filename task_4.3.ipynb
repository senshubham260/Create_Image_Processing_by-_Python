{
 "cells": [
  {
   "cell_type": "code",
   "execution_count": 1,
   "id": "d4fe0bff",
   "metadata": {},
   "outputs": [],
   "source": [
    "#Task 4.3\n",
    "#Take 2 image and combine it to form single image.For example collage"
   ]
  },
  {
   "cell_type": "code",
   "execution_count": 2,
   "id": "cf1ccc6e",
   "metadata": {},
   "outputs": [],
   "source": [
    "import cv2"
   ]
  },
  {
   "cell_type": "code",
   "execution_count": 3,
   "id": "1c4fbc00",
   "metadata": {},
   "outputs": [],
   "source": [
    "rohit=cv2.imread(\"rohit.jpg\")"
   ]
  },
  {
   "cell_type": "code",
   "execution_count": 4,
   "id": "2020cb42",
   "metadata": {},
   "outputs": [],
   "source": [
    "rohit1=cv2.imread(\"rohit1.jpg\")"
   ]
  },
  {
   "cell_type": "code",
   "execution_count": 5,
   "id": "25a4db9a",
   "metadata": {},
   "outputs": [
    {
     "data": {
      "text/plain": [
       "(352, 612, 3)"
      ]
     },
     "execution_count": 5,
     "metadata": {},
     "output_type": "execute_result"
    }
   ],
   "source": [
    "rohit.shape"
   ]
  },
  {
   "cell_type": "code",
   "execution_count": 6,
   "id": "1ef7d6b4",
   "metadata": {},
   "outputs": [
    {
     "data": {
      "text/plain": [
       "(352, 612, 3)"
      ]
     },
     "execution_count": 6,
     "metadata": {},
     "output_type": "execute_result"
    }
   ],
   "source": [
    "rohit1.shape"
   ]
  },
  {
   "cell_type": "code",
   "execution_count": 7,
   "id": "30e00271",
   "metadata": {},
   "outputs": [],
   "source": [
    "import numpy as np\n",
    "rohit_rohit1_hori = np.hstack((rohit,rohit1))"
   ]
  },
  {
   "cell_type": "code",
   "execution_count": 8,
   "id": "2fafa559",
   "metadata": {},
   "outputs": [],
   "source": [
    "#For printing image\n",
    "cv2.imshow(\"Horizontal-collage\",rohit_rohit1_hori)\n",
    "cv2.waitKey()\n",
    "cv2.destroyAllWindows()"
   ]
  },
  {
   "cell_type": "code",
   "execution_count": 9,
   "id": "8b3395c5",
   "metadata": {},
   "outputs": [],
   "source": [
    "#now for vartically image width should be same\n",
    "rohit=cv2.imread(\"rohit.jpg\")\n",
    "rohit1=cv2.imread(\"rohit1.jpg\")\n",
    "rohit=rohit[:,:613]\n",
    "\n",
    "#vertically\n",
    "import numpy as np\n",
    "rohit_rohit1_ver = np.vstack((rohit,rohit1))"
   ]
  },
  {
   "cell_type": "code",
   "execution_count": 10,
   "id": "3a6fd3d2",
   "metadata": {},
   "outputs": [],
   "source": [
    "#for printing image\n",
    "cv2.imshow(\"Vertically-collage\",rohit_rohit1_ver)\n",
    "cv2.waitKey(0)\n",
    "cv2.destroyAllWindows()"
   ]
  },
  {
   "cell_type": "code",
   "execution_count": null,
   "id": "5e58eae0",
   "metadata": {},
   "outputs": [],
   "source": []
  }
 ],
 "metadata": {
  "kernelspec": {
   "display_name": "Python 3",
   "language": "python",
   "name": "python3"
  },
  "language_info": {
   "codemirror_mode": {
    "name": "ipython",
    "version": 3
   },
   "file_extension": ".py",
   "mimetype": "text/x-python",
   "name": "python",
   "nbconvert_exporter": "python",
   "pygments_lexer": "ipython3",
   "version": "3.8.8"
  }
 },
 "nbformat": 4,
 "nbformat_minor": 5
}
