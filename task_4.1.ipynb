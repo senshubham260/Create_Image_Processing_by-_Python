{
 "cells": [
  {
   "cell_type": "code",
   "execution_count": 1,
   "id": "048d869f",
   "metadata": {},
   "outputs": [],
   "source": [
    "#Task 4.1\n",
    "#Create image by yourself Using Python Code "
   ]
  },
  {
   "cell_type": "code",
   "execution_count": 2,
   "id": "c2487f0d",
   "metadata": {},
   "outputs": [],
   "source": [
    "import cv2\n",
    "import numpy as np"
   ]
  },
  {
   "cell_type": "code",
   "execution_count": 3,
   "id": "090833e5",
   "metadata": {},
   "outputs": [],
   "source": [
    "image = np.zeros((500,500,3), np.uint8)"
   ]
  },
  {
   "cell_type": "code",
   "execution_count": 4,
   "id": "29a9ac57",
   "metadata": {},
   "outputs": [],
   "source": [
    "image[:,0:500//2] = (50,10,300)      # (B, G, R)\n",
    "image[:,500//2:500] = (222,15,920)"
   ]
  },
  {
   "cell_type": "code",
   "execution_count": 5,
   "id": "0dd9a89f",
   "metadata": {},
   "outputs": [
    {
     "data": {
      "text/plain": [
       "array([[[ 50,  10,  44],\n",
       "        [ 50,  10,  44],\n",
       "        [ 50,  10,  44],\n",
       "        ...,\n",
       "        [222,  15, 152],\n",
       "        [222,  15, 152],\n",
       "        [222,  15, 152]],\n",
       "\n",
       "       [[ 50,  10,  44],\n",
       "        [ 50,  10,  44],\n",
       "        [ 50,  10,  44],\n",
       "        ...,\n",
       "        [222,  15, 152],\n",
       "        [222,  15, 152],\n",
       "        [222,  15, 152]],\n",
       "\n",
       "       [[ 50,  10,  44],\n",
       "        [ 50,  10,  44],\n",
       "        [ 50,  10,  44],\n",
       "        ...,\n",
       "        [222,  15, 152],\n",
       "        [222,  15, 152],\n",
       "        [222,  15, 152]],\n",
       "\n",
       "       ...,\n",
       "\n",
       "       [[ 50,  10,  44],\n",
       "        [ 50,  10,  44],\n",
       "        [ 50,  10,  44],\n",
       "        ...,\n",
       "        [222,  15, 152],\n",
       "        [222,  15, 152],\n",
       "        [222,  15, 152]],\n",
       "\n",
       "       [[ 50,  10,  44],\n",
       "        [ 50,  10,  44],\n",
       "        [ 50,  10,  44],\n",
       "        ...,\n",
       "        [222,  15, 152],\n",
       "        [222,  15, 152],\n",
       "        [222,  15, 152]],\n",
       "\n",
       "       [[ 50,  10,  44],\n",
       "        [ 50,  10,  44],\n",
       "        [ 50,  10,  44],\n",
       "        ...,\n",
       "        [222,  15, 152],\n",
       "        [222,  15, 152],\n",
       "        [222,  15, 152]]], dtype=uint8)"
      ]
     },
     "execution_count": 5,
     "metadata": {},
     "output_type": "execute_result"
    }
   ],
   "source": [
    "cv2.rectangle(image, (50, 50), (400, 400), (90, 35, 300), 8)\n",
    "cv2.circle(image,(250,230), 34, (10,15,200), -1)"
   ]
  },
  {
   "cell_type": "code",
   "execution_count": 6,
   "id": "82b4c245",
   "metadata": {},
   "outputs": [],
   "source": [
    "cv2.imshow('image',image)\n",
    "cv2.waitKey(0)\n",
    "cv2.destroyAllWindows()\n",
    "\n",
    "        "
   ]
  },
  {
   "cell_type": "code",
   "execution_count": null,
   "id": "ad6ba9a2",
   "metadata": {},
   "outputs": [],
   "source": []
  }
 ],
 "metadata": {
  "kernelspec": {
   "display_name": "Python 3",
   "language": "python",
   "name": "python3"
  },
  "language_info": {
   "codemirror_mode": {
    "name": "ipython",
    "version": 3
   },
   "file_extension": ".py",
   "mimetype": "text/x-python",
   "name": "python",
   "nbconvert_exporter": "python",
   "pygments_lexer": "ipython3",
   "version": "3.8.8"
  }
 },
 "nbformat": 4,
 "nbformat_minor": 5
}
