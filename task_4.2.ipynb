{
 "cells": [
  {
   "cell_type": "code",
   "execution_count": 1,
   "id": "fb730a1f",
   "metadata": {},
   "outputs": [],
   "source": [
    "#Task 4.2\n",
    "#Take 2 image crop some part of both images and swap it."
   ]
  },
  {
   "cell_type": "code",
   "execution_count": 2,
   "id": "96ea2cc9",
   "metadata": {},
   "outputs": [],
   "source": [
    "import cv2"
   ]
  },
  {
   "cell_type": "code",
   "execution_count": 3,
   "id": "9c8b74e3",
   "metadata": {},
   "outputs": [],
   "source": [
    "hulk = cv2.imread(\"hulk.jpg\")"
   ]
  },
  {
   "cell_type": "code",
   "execution_count": 4,
   "id": "e31eaf1d",
   "metadata": {},
   "outputs": [
    {
     "data": {
      "text/plain": [
       "(691, 532, 3)"
      ]
     },
     "execution_count": 4,
     "metadata": {},
     "output_type": "execute_result"
    }
   ],
   "source": [
    "hulk.shape"
   ]
  },
  {
   "cell_type": "code",
   "execution_count": 5,
   "id": "1e8b5e49",
   "metadata": {},
   "outputs": [],
   "source": [
    "batman = cv2.imread(\"batman.jpg\")"
   ]
  },
  {
   "cell_type": "code",
   "execution_count": 6,
   "id": "781a1b03",
   "metadata": {},
   "outputs": [
    {
     "data": {
      "text/plain": [
       "(1135, 852, 3)"
      ]
     },
     "execution_count": 6,
     "metadata": {},
     "output_type": "execute_result"
    }
   ],
   "source": [
    "batman.shape"
   ]
  },
  {
   "cell_type": "code",
   "execution_count": 7,
   "id": "dd731387",
   "metadata": {},
   "outputs": [],
   "source": [
    "cv2.imshow(\"hulk\",hulk)\n",
    "cv2.imshow(\"batman\",batman)\n",
    "cv2.waitKey()\n",
    "cv2.destroyAllWindows()"
   ]
  },
  {
   "cell_type": "code",
   "execution_count": 8,
   "id": "c89bb016",
   "metadata": {},
   "outputs": [],
   "source": [
    "#crop and swap\n",
    "crop_hulk = hulk[60:380,200:450]\n",
    "batman[60:380,200:450] =crop_hulk\n",
    "cv2.imshow(\"swaping\",batman)\n",
    "cv2.waitKey()\n",
    "cv2.destroyAllWindows()"
   ]
  },
  {
   "cell_type": "code",
   "execution_count": 9,
   "id": "a57f8ee3",
   "metadata": {},
   "outputs": [],
   "source": [
    "#crop and swap\n",
    "batman = cv2.imread(\"batman.jpg\")\n",
    "crop_batman = batman[60:380,200:450]\n",
    "hulk[60:380,200:450] =crop_batman\n",
    "cv2.imshow(\"swaping\",hulk)\n",
    "\n",
    "cv2.waitKey()\n",
    "cv2.destroyAllWindows()"
   ]
  },
  {
   "cell_type": "code",
   "execution_count": null,
   "id": "49de3033",
   "metadata": {},
   "outputs": [],
   "source": []
  }
 ],
 "metadata": {
  "kernelspec": {
   "display_name": "Python 3",
   "language": "python",
   "name": "python3"
  },
  "language_info": {
   "codemirror_mode": {
    "name": "ipython",
    "version": 3
   },
   "file_extension": ".py",
   "mimetype": "text/x-python",
   "name": "python",
   "nbconvert_exporter": "python",
   "pygments_lexer": "ipython3",
   "version": "3.8.8"
  }
 },
 "nbformat": 4,
 "nbformat_minor": 5
}
